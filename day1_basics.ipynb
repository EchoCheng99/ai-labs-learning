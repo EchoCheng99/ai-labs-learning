{
 "cells": [
  {
   "cell_type": "code",
   "execution_count": 1,
   "id": "1af98477-ed5b-4bda-b5ca-49ff3c2b9054",
   "metadata": {},
   "outputs": [
    {
     "name": "stdout",
     "output_type": "stream",
     "text": [
      "姓名： Echo\n",
      "年龄： 25\n",
      "身高： 1.75\n",
      "是否是学生： True\n"
     ]
    }
   ],
   "source": [
    "# 整数\n",
    "age = 25\n",
    "# 小数（浮点数）\n",
    "height = 1.75\n",
    "# 字符串\n",
    "name = \"Echo\"\n",
    "# 布尔值\n",
    "is_student = True\n",
    "\n",
    "print(\"姓名：\", name)\n",
    "print(\"年龄：\", age)\n",
    "print(\"身高：\", height)\n",
    "print(\"是否是学生：\", is_student)\n"
   ]
  },
  {
   "cell_type": "code",
   "execution_count": 3,
   "id": "ddd1c970-0781-4677-9f50-654cfc809e33",
   "metadata": {},
   "outputs": [
    {
     "name": "stdin",
     "output_type": "stream",
     "text": [
      "请输入你的名字： echo\n",
      "请输入你的年龄： 33\n"
     ]
    },
    {
     "name": "stdout",
     "output_type": "stream",
     "text": [
      "你好，echo！你今年 33 岁。\n"
     ]
    }
   ],
   "source": [
    "name = input(\"请输入你的名字：\")\n",
    "age = input(\"请输入你的年龄：\")\n",
    "\n",
    "print(\"你好，\" + name + \"！你今年 \" + age + \" 岁。\")\n"
   ]
  },
  {
   "cell_type": "code",
   "execution_count": 4,
   "id": "eaddef4e-01a4-437e-8ce2-8347a0c30abf",
   "metadata": {},
   "outputs": [
    {
     "name": "stdin",
     "output_type": "stream",
     "text": [
      "请输入摄氏温度： 22\n"
     ]
    },
    {
     "name": "stdout",
     "output_type": "stream",
     "text": [
      "对应的华氏温度为： 71.6\n"
     ]
    }
   ],
   "source": [
    "celsius = float(input(\"请输入摄氏温度：\"))\n",
    "fahrenheit = celsius * 9 / 5 + 32\n",
    "print(\"对应的华氏温度为：\", fahrenheit)"
   ]
  },
  {
   "cell_type": "code",
   "execution_count": 5,
   "id": "e18da610-5273-4ad9-bc17-558fb5547618",
   "metadata": {},
   "outputs": [
    {
     "name": "stdout",
     "output_type": "stream",
     "text": [
      "生成的随机数是： 65\n"
     ]
    }
   ],
   "source": [
    "import random\n",
    "\n",
    "# 生成 1 到 100 之间的随机整数（包含 1 和 100）\n",
    "secret_number = random.randint(1, 100)\n",
    "print(\"生成的随机数是：\", secret_number)\n"
   ]
  },
  {
   "cell_type": "markdown",
   "id": "eff13456-4a1c-4ec8-a43a-2e586009a039",
   "metadata": {},
   "source": [
    "random.randint(a, b) 从整数范围 [a, b]（含 a 和 b） 中随机返回一个整数\n",
    "range() 是左闭右开"
   ]
  },
  {
   "cell_type": "code",
   "execution_count": 6,
   "id": "82d9a232-cbe3-457e-8058-af94315e6f10",
   "metadata": {},
   "outputs": [
    {
     "name": "stdin",
     "output_type": "stream",
     "text": [
      "请输入分数： 90\n"
     ]
    },
    {
     "name": "stdout",
     "output_type": "stream",
     "text": [
      "优秀\n"
     ]
    }
   ],
   "source": [
    "score = int(input(\"请输入分数：\"))\n",
    "\n",
    "if score >= 90:\n",
    "    print(\"优秀\")\n",
    "elif score >= 70:\n",
    "    print(\"良好\")\n",
    "elif score >= 60:\n",
    "    print(\"及格\")\n",
    "else:\n",
    "    print(\"不及格\")\n"
   ]
  },
  {
   "cell_type": "markdown",
   "id": "0f7bb482-7b70-49a6-ac4f-039728261acb",
   "metadata": {},
   "source": [
    "条件语句后必须加冒号 :\n",
    "缩进表示语句块（通常是 4 个空格或 Tab）"
   ]
  },
  {
   "cell_type": "code",
   "execution_count": 7,
   "id": "ae4b2861-2573-4ee4-b3ee-d7e33e4a8ff9",
   "metadata": {},
   "outputs": [
    {
     "name": "stdin",
     "output_type": "stream",
     "text": [
      "请输入密码： 1234\n"
     ]
    },
    {
     "name": "stdout",
     "output_type": "stream",
     "text": [
      "密码错误，请重试。\n"
     ]
    },
    {
     "name": "stdin",
     "output_type": "stream",
     "text": [
      "请输入密码： werfv\n"
     ]
    },
    {
     "name": "stdout",
     "output_type": "stream",
     "text": [
      "密码错误，请重试。\n"
     ]
    },
    {
     "name": "stdin",
     "output_type": "stream",
     "text": [
      "请输入密码： openai\n"
     ]
    },
    {
     "name": "stdout",
     "output_type": "stream",
     "text": [
      "密码正确！\n"
     ]
    }
   ],
   "source": [
    "password = \"openai\"\n",
    "\n",
    "while True:\n",
    "    guess = input(\"请输入密码：\")\n",
    "    if guess == password:\n",
    "        print(\"密码正确！\")\n",
    "        break  # 终止循环\n",
    "    else:\n",
    "        print(\"密码错误，请重试。\")"
   ]
  },
  {
   "cell_type": "markdown",
   "id": "003c0d08-7af5-4ce9-b96a-8e02a375b2d9",
   "metadata": {},
   "source": [
    "while True 创建无限循环\n",
    "\n",
    "break 用来终止循环\n",
    "\n",
    "可以配合 if 实现条件控制"
   ]
  },
  {
   "cell_type": "markdown",
   "id": "4605f070-e6c5-4b59-a3bf-d5033c4e329d",
   "metadata": {},
   "source": [
    "让用户猜一个你“偷偷生成”的 1～100 的随机整数，程序会提示：\n",
    "\n",
    "猜小了（猜的数字 < 正确答案）\n",
    "\n",
    "猜大了（猜的数字 > 正确答案）\n",
    "\n",
    "猜对了！🎉"
   ]
  },
  {
   "cell_type": "code",
   "execution_count": 9,
   "id": "5557f19f-56a1-4018-92f3-48ebafabdfce",
   "metadata": {},
   "outputs": [
    {
     "name": "stdin",
     "output_type": "stream",
     "text": [
      "猜测数字： 50\n"
     ]
    },
    {
     "name": "stdout",
     "output_type": "stream",
     "text": [
      "猜小了\n"
     ]
    },
    {
     "name": "stdin",
     "output_type": "stream",
     "text": [
      "猜测数字： 65\n"
     ]
    },
    {
     "name": "stdout",
     "output_type": "stream",
     "text": [
      "猜小了\n"
     ]
    },
    {
     "name": "stdin",
     "output_type": "stream",
     "text": [
      "猜测数字： 80\n"
     ]
    },
    {
     "name": "stdout",
     "output_type": "stream",
     "text": [
      "猜大了\n"
     ]
    },
    {
     "name": "stdin",
     "output_type": "stream",
     "text": [
      "猜测数字： 70\n"
     ]
    },
    {
     "name": "stdout",
     "output_type": "stream",
     "text": [
      "猜小了\n"
     ]
    },
    {
     "name": "stdin",
     "output_type": "stream",
     "text": [
      "猜测数字： 75\n"
     ]
    },
    {
     "name": "stdout",
     "output_type": "stream",
     "text": [
      "猜大了\n"
     ]
    },
    {
     "name": "stdin",
     "output_type": "stream",
     "text": [
      "猜测数字： 73\n"
     ]
    },
    {
     "name": "stdout",
     "output_type": "stream",
     "text": [
      "猜对了！🎉\n"
     ]
    }
   ],
   "source": [
    "import random\n",
    "secret = random.randint(1, 100)\n",
    "while True:\n",
    "    guess = int(input(\"猜测数字：\"))\n",
    "    if guess == secret:\n",
    "        print(\"猜对了！🎉\")\n",
    "        break  # 终止循环\n",
    "    else:\n",
    "        if guess < secret:\n",
    "             print(\"猜小了\")\n",
    "        if guess > secret:\n",
    "             print(\"猜大了\")"
   ]
  },
  {
   "cell_type": "code",
   "execution_count": 10,
   "id": "234499c7-b51e-4f17-b581-66b2c3ea5622",
   "metadata": {},
   "outputs": [
    {
     "name": "stdout",
     "output_type": "stream",
     "text": [
      "我已经想好了一个 1 到 100 的整数，你能猜到它吗？\n"
     ]
    },
    {
     "name": "stdin",
     "output_type": "stream",
     "text": [
      "请输入你的猜测： 56\n"
     ]
    },
    {
     "name": "stdout",
     "output_type": "stream",
     "text": [
      "太大了！\n"
     ]
    },
    {
     "name": "stdin",
     "output_type": "stream",
     "text": [
      "请输入你的猜测： 45\n"
     ]
    },
    {
     "name": "stdout",
     "output_type": "stream",
     "text": [
      "太大了！\n"
     ]
    },
    {
     "name": "stdin",
     "output_type": "stream",
     "text": [
      "请输入你的猜测： 34\n"
     ]
    },
    {
     "name": "stdout",
     "output_type": "stream",
     "text": [
      "太大了！\n"
     ]
    },
    {
     "name": "stdin",
     "output_type": "stream",
     "text": [
      "请输入你的猜测： 23\n"
     ]
    },
    {
     "name": "stdout",
     "output_type": "stream",
     "text": [
      "太大了！\n"
     ]
    },
    {
     "name": "stdin",
     "output_type": "stream",
     "text": [
      "请输入你的猜测： 11\n"
     ]
    },
    {
     "name": "stdout",
     "output_type": "stream",
     "text": [
      "太小了！\n"
     ]
    },
    {
     "name": "stdin",
     "output_type": "stream",
     "text": [
      "请输入你的猜测： 17\n"
     ]
    },
    {
     "name": "stdout",
     "output_type": "stream",
     "text": [
      "太小了！\n"
     ]
    },
    {
     "name": "stdin",
     "output_type": "stream",
     "text": [
      "请输入你的猜测： 19\n"
     ]
    },
    {
     "name": "stdout",
     "output_type": "stream",
     "text": [
      "太小了！\n"
     ]
    },
    {
     "name": "stdin",
     "output_type": "stream",
     "text": [
      "请输入你的猜测： 20\n"
     ]
    },
    {
     "name": "stdout",
     "output_type": "stream",
     "text": [
      "太小了！\n"
     ]
    },
    {
     "name": "stdin",
     "output_type": "stream",
     "text": [
      "请输入你的猜测： 22\n"
     ]
    },
    {
     "name": "stdout",
     "output_type": "stream",
     "text": [
      "🎉 猜对了！你一共猜了 9 次！\n"
     ]
    }
   ],
   "source": [
    "import random\n",
    "\n",
    "secret = random.randint(1, 100)  # 随机生成一个目标数字\n",
    "print(\"我已经想好了一个 1 到 100 的整数，你能猜到它吗？\")\n",
    "guess = None  # 初始化变量\n",
    "tries = 0     # 记录猜了几次\n",
    "\n",
    "while guess != secret:\n",
    "    guess = int(input(\"请输入你的猜测：\"))\n",
    "    tries += 1\n",
    "\n",
    "    if guess < secret:\n",
    "        print(\"太小了！\")\n",
    "    elif guess > secret:\n",
    "        print(\"太大了！\")\n",
    "    else:\n",
    "        print(f\"🎉 猜对了！你一共猜了 {tries} 次！\")\n"
   ]
  },
  {
   "cell_type": "code",
   "execution_count": 12,
   "id": "4f7e1717-f801-4a6b-a88a-0073b2c8ae9e",
   "metadata": {},
   "outputs": [
    {
     "name": "stdin",
     "output_type": "stream",
     "text": [
      "🎮 欢迎来到猜数字游戏！请输入你的名字： alice\n"
     ]
    },
    {
     "name": "stdout",
     "output_type": "stream",
     "text": [
      "你好，alice，我已经想好了一个 1 到 100 的整数，你能猜到它吗？\n"
     ]
    },
    {
     "name": "stdin",
     "output_type": "stream",
     "text": [
      "请输入你的猜测： 70\n"
     ]
    },
    {
     "name": "stdout",
     "output_type": "stream",
     "text": [
      "太大了！\n"
     ]
    },
    {
     "name": "stdin",
     "output_type": "stream",
     "text": [
      "请输入你的猜测： 50\n"
     ]
    },
    {
     "name": "stdout",
     "output_type": "stream",
     "text": [
      "太小了！\n"
     ]
    },
    {
     "name": "stdin",
     "output_type": "stream",
     "text": [
      "请输入你的猜测： 60\n"
     ]
    },
    {
     "name": "stdout",
     "output_type": "stream",
     "text": [
      "太小了！\n"
     ]
    },
    {
     "name": "stdin",
     "output_type": "stream",
     "text": [
      "请输入你的猜测： 65\n"
     ]
    },
    {
     "name": "stdout",
     "output_type": "stream",
     "text": [
      "太大了！\n"
     ]
    },
    {
     "name": "stdin",
     "output_type": "stream",
     "text": [
      "请输入你的猜测： 63\n"
     ]
    },
    {
     "name": "stdout",
     "output_type": "stream",
     "text": [
      "🎉 猜对了！alice 共猜了 5 次，用时 14.27 秒。\n"
     ]
    }
   ],
   "source": [
    "import random\n",
    "name = input(\"🎮 欢迎来到猜数字游戏！请输入你的名字：\")\n",
    "secret = random.randint(1, 100)  # 随机生成一个目标数字\n",
    "print(f\"你好，{name}，我已经想好了一个 1 到 100 的整数，你能猜到它吗？\")# f\"\" 是 Python 中的 f-string（格式化字符串），它是让你在字符串中嵌入变量值的一种简洁写法。\n",
    "\n",
    "import time\n",
    "start_time = time.time()\n",
    "\n",
    "guess = None  # 初始化变量\n",
    "tries = 0     # 记录猜了几次\n",
    "\n",
    "while guess != secret:\n",
    "    guess = int(input(\"请输入你的猜测：\"))\n",
    "    tries += 1\n",
    "\n",
    "    if guess < secret:\n",
    "        print(\"太小了！\")\n",
    "    elif guess > secret:\n",
    "        print(\"太大了！\")\n",
    "    else:\n",
    "        end_time = time.time()    # 记录结束时间\n",
    "        duration = round(end_time - start_time, 2)  # 总用时（秒），保留2位小数\n",
    "        print(f\"🎉 猜对了！{name} 共猜了 {tries} 次，用时 {duration} 秒。\")\n",
    "        with open(\"guess_log.txt\", \"a\", encoding=\"utf-8\") as f:\n",
    "            f.write(f\"{name} 猜中了 {secret_number}，用了 {tries} 次，耗时 {duration} 秒\\n\")\n",
    "            \n"
   ]
  },
  {
   "cell_type": "markdown",
   "id": "2cca482e-b8eb-4763-97df-1b1974f5e628",
   "metadata": {},
   "source": [
    "# ✅ Day 1 学习总结：Python 入门 & Lab0 项目实战\n",
    "\n",
    "## 🧠 学到的核心知识点：\n",
    "\n",
    "- Python 环境搭建（Anaconda + Jupyter Notebook）\n",
    "- 基本语法：变量、数据类型（int, float, str, bool）\n",
    "- 用户输入与输出：`input()` 与 `print()`\n",
    "- 条件判断：`if / elif / else`\n",
    "- 循环结构：`while`\n",
    "- 随机数生成：`random.randint(a, b)`\n",
    "- f-string 字符串格式化：`f\"你好，{name}\"`\n",
    "- 初识文件操作：`open(..., \"a\")` 写入日志\n",
    "\n",
    "---\n",
    "\n",
    "## 💻 Lab0 项目：猜数字小游戏\n",
    "\n",
    "### 完成情况：\n",
    "- ✅ 随机生成 1–100 之间的目标数字\n",
    "- ✅ 玩家不断输入数字进行猜测\n",
    "- ✅ 程序反馈“太小”“太大”“猜对了”\n",
    "- ✅ 显示总尝试次数\n",
    "- ✅ 显示玩家名字、记录总用时\n",
    "- ✅ 把结果写入 `guess_log.txt` 文件（保存记录）\n",
    "\n",
    "---\n",
    "\n",
    "## 🔍 今天的收获：\n",
    "\n",
    "- 第一次用 Python 写出一个完整功能的小游戏\n",
    "- 理解了循环与条件控制结构的配合\n",
    "- 学会用模块（如 `random`, `time`）增强功能\n",
    "- 明白了代码结构从“脚本”到“项目”的雏形\n",
    "\n",
    "---\n",
    "\n",
    "## 🤔 遇到的问题：\n",
    "\n",
    "- 不清楚是否安装了 Python → 学会用 `where python` 检查\n",
    "- 不知道 `f\"\"` 的含义 → 理解为快速格式化字符串\n",
    "- 对 Jupyter 的文件保存位置不熟悉 → 已学会定位输出文件\n",
    "\n",
    "---\n",
    "\n",
    "## 🌟 明日预告：Day 2 内容\n",
    "\n",
    "- Python 函数定义与调用\n",
    "- 文件读取（展示排行榜）\n",
    "- 模块 import 与项目结构拆分\n",
    "- 准备 Numpy 入门（为 AI 课程打基础）\n",
    "\n",
    "---\n"
   ]
  },
  {
   "cell_type": "code",
   "execution_count": null,
   "id": "7fe1169b-f19b-4c09-abc0-e34c7a4b6928",
   "metadata": {},
   "outputs": [],
   "source": []
  }
 ],
 "metadata": {
  "kernelspec": {
   "display_name": "Python [conda env:base] *",
   "language": "python",
   "name": "conda-base-py"
  },
  "language_info": {
   "codemirror_mode": {
    "name": "ipython",
    "version": 3
   },
   "file_extension": ".py",
   "mimetype": "text/x-python",
   "name": "python",
   "nbconvert_exporter": "python",
   "pygments_lexer": "ipython3",
   "version": "3.13.5"
  }
 },
 "nbformat": 4,
 "nbformat_minor": 5
}
